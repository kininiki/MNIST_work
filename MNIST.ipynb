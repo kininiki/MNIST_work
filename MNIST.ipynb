{
 "cells": [
  {
   "cell_type": "markdown",
   "metadata": {
    "id": "3JivdosFqRrL"
   },
   "source": [
    "Задача: обучить нейросеть распознавать рукописный текст по картинке. Библиотека mnist представляет собой базу данных из 70000 чёрно-белых изображений цифры от 0 до 9. Каждое изображение это numpy.ndarray размером 28x28, где каждый пиксель это значение от 0 до 255, где чем выше значение, тем выше яркость пикселя.  Можно использовать любые библиотеки и фреймворки, за исключением готовых предобученных нейросетей."
   ]
  },
  {
   "cell_type": "code",
   "execution_count": 57,
   "metadata": {
    "colab": {
     "base_uri": "https://localhost:8080/"
    },
    "id": "KgDgsbjpcLF-",
    "outputId": "0d9a99d4-60fa-45ab-a69d-41df1207152e"
   },
   "outputs": [],
   "source": [
    "# Установка библиотеки в google collab\n",
    "#!pip install mnist"
   ]
  },
  {
   "cell_type": "code",
   "execution_count": 58,
   "metadata": {
    "id": "cTbs4JPAuoJ9"
   },
   "outputs": [],
   "source": [
    "import numpy as np\n",
    "import mnist"
   ]
  },
  {
   "cell_type": "code",
   "execution_count": 59,
   "metadata": {
    "id": "oHxWZQ54cPOJ"
   },
   "outputs": [],
   "source": [
    "#Загрузка изображений из сети\n",
    "train_X, train_Y, test_X, test_Y = mnist.train_images(), mnist.train_labels(), mnist.test_images(), mnist.test_labels()"
   ]
  },
  {
   "cell_type": "code",
   "execution_count": 60,
   "metadata": {
    "colab": {
     "base_uri": "https://localhost:8080/"
    },
    "id": "61WJ3wRhcbl-",
    "outputId": "aa3ce4ce-fdff-41a3-a404-f96112e44cb1"
   },
   "outputs": [
    {
     "name": "stdout",
     "output_type": "stream",
     "text": [
      "Train images shape: (60000, 28, 28)\n",
      "Train labels shape: (60000,)\n",
      "Test images shape: (10000, 28, 28)\n",
      "Test labels shape: (10000,)\n"
     ]
    }
   ],
   "source": [
    "print(f\"Train images shape: {train_X.shape}\")\n",
    "print(f\"Train labels shape: {train_Y.shape}\")\n",
    "print(f\"Test images shape: {test_X.shape}\")\n",
    "print(f\"Test labels shape: {test_Y.shape}\")"
   ]
  },
  {
   "cell_type": "code",
   "execution_count": 61,
   "metadata": {
    "colab": {
     "base_uri": "https://localhost:8080/",
     "height": 675
    },
    "id": "0Crfs5VOc2s1",
    "outputId": "eb4c79a4-3f4b-42aa-f159-7b467d0f0b36"
   },
   "outputs": [
    {
     "data": {
      "image/png": "[encoded data removed]",
      "text/plain": [
       "<Figure size 800x800 with 9 Axes>"
      ]
     },
     "metadata": {},
     "output_type": "display_data"
    }
   ],
   "source": [
    "#Просмотр изображений через matplotlib\n",
    "from matplotlib import pyplot as plt\n",
    "fig = plt.figure(figsize=(8,8))\n",
    "axs = fig.subplots(3,3)\n",
    "for i, ax in enumerate(axs.flat):\n",
    "  ax.imshow(train_X[i],cmap=plt.get_cmap('gray'))\n",
    "  ax.set(xticks=[], yticks=[])\n",
    "  ax.title.set_text(f'Number {train_Y[i]}')"
   ]
  },
  {
   "cell_type": "code",
   "execution_count": null,
   "metadata": {
    "id": "sUpOjOwuo4Er"
   },
   "outputs": [],
   "source": []
  },
  {
   "cell_type": "code",
   "execution_count": 62,
   "metadata": {},
   "outputs": [],
   "source": [
    "#!pip install tensorflow"
   ]
  },
  {
   "cell_type": "code",
   "execution_count": 63,
   "metadata": {},
   "outputs": [],
   "source": [
    "import tensorflow as tf\n",
    "from tensorflow.keras import layers, models\n",
    "from tensorflow.keras.utils import to_categorical\n",
    "\n",
    "from sklearn.metrics import confusion_matrix"
   ]
  },
  {
   "cell_type": "code",
   "execution_count": 64,
   "metadata": {},
   "outputs": [],
   "source": [
    "# Нормализация данных и преобразование меток\n",
    "train_X = train_X.reshape((60000, 28, 28, 1)).astype('float32') / 255\n",
    "test_X = test_X.reshape((10000, 28, 28, 1)).astype('float32') / 255\n",
    "train_Y = to_categorical(train_Y)\n",
    "test_Y = to_categorical(test_Y)"
   ]
  },
  {
   "cell_type": "code",
   "execution_count": null,
   "metadata": {},
   "outputs": [],
   "source": []
  },
  {
   "cell_type": "code",
   "execution_count": 65,
   "metadata": {},
   "outputs": [],
   "source": [
    "#!pip install hyperopt"
   ]
  },
  {
   "cell_type": "code",
   "execution_count": 66,
   "metadata": {},
   "outputs": [],
   "source": [
    "from keras.models import Sequential\n",
    "from keras.layers import Dense, Conv2D, MaxPooling2D, Flatten\n"
   ]
  },
  {
   "cell_type": "code",
   "execution_count": 67,
   "metadata": {},
   "outputs": [],
   "source": [
    "# Создание модели\n",
    "model = models.Sequential() # пустая модель\n",
    "model.add(layers.Conv2D(30, (3, 3), activation='relu', input_shape=(28, 28, 1))) # первый свёрточный слой (30 фильтров)\n",
    "model.add(layers.MaxPooling2D((2, 2))) # пулинг в области 2 на 2 пикселя\n",
    "\n",
    "model.add(layers.Conv2D(60, (3, 3), activation='relu')) # второй свёрточный слой (60 фильтров)\n",
    "model.add(layers.MaxPooling2D((2, 2))) # пулинг\n",
    "\n",
    "model.add(layers.Conv2D(60, (3, 3), activation='relu')) # третий свёрточный слой\n",
    "\n",
    "model.add(layers.Flatten()) # преобразование в одномерный вектор\n",
    "model.add(layers.Dense(60, activation='relu')) # полносвязный слой (60 нейронов)\n",
    "model.add(layers.Dense(10, activation='softmax')) # полносвязный слой (10 цифр на выходе)"
   ]
  },
  {
   "cell_type": "code",
   "execution_count": 73,
   "metadata": {},
   "outputs": [],
   "source": [
    "# Компиляция модели\n",
    "model.compile(optimizer='adam', # оптимизатор адам\n",
    "              loss='categorical_crossentropy', # функцция потерь для многоклассовой классификации\n",
    "              metrics=['accuracy']) # отслеживание точности модели"
   ]
  },
  {
   "cell_type": "code",
   "execution_count": 74,
   "metadata": {},
   "outputs": [
    {
     "name": "stdout",
     "output_type": "stream",
     "text": [
      "Epoch 1/5\n",
      "1000/1000 [==============================] - 21s 20ms/step - loss: 0.0212 - accuracy: 0.9930 - val_loss: 0.0308 - val_accuracy: 0.9905\n",
      "Epoch 2/5\n",
      "1000/1000 [==============================] - 25s 25ms/step - loss: 0.0164 - accuracy: 0.9948 - val_loss: 0.0324 - val_accuracy: 0.9898\n",
      "Epoch 3/5\n",
      "1000/1000 [==============================] - 25s 25ms/step - loss: 0.0136 - accuracy: 0.9959 - val_loss: 0.0282 - val_accuracy: 0.9922\n",
      "Epoch 4/5\n",
      "1000/1000 [==============================] - 25s 25ms/step - loss: 0.0111 - accuracy: 0.9964 - val_loss: 0.0305 - val_accuracy: 0.9902\n",
      "Epoch 5/5\n",
      "1000/1000 [==============================] - 26s 26ms/step - loss: 0.0096 - accuracy: 0.9969 - val_loss: 0.0314 - val_accuracy: 0.9912\n"
     ]
    },
    {
     "data": {
      "text/plain": [
       "<keras.src.callbacks.History at 0x1da03963190>"
      ]
     },
     "execution_count": 74,
     "metadata": {},
     "output_type": "execute_result"
    }
   ],
   "source": [
    "# Обучение модели (5 эпох, в каждом шаге по 60 образцов)\n",
    "model.fit(train_X, train_Y, epochs=5, batch_size=60, validation_data=(test_X, test_Y))"
   ]
  },
  {
   "cell_type": "code",
   "execution_count": 75,
   "metadata": {},
   "outputs": [
    {
     "name": "stdout",
     "output_type": "stream",
     "text": [
      "313/313 [==============================] - 3s 8ms/step - loss: 0.0314 - accuracy: 0.9912\n",
      "Функция потерь модели: 0.03143799677491188\n",
      "Точность модели: 0.9911999702453613\n"
     ]
    }
   ],
   "source": [
    "# Оценка модели на тестовых данных\n",
    "test_loss, test_acc = model.evaluate(test_X, test_Y)\n",
    "print(\"Функция потерь модели:\", test_loss)\n",
    "print(\"Точность модели:\", test_acc)"
   ]
  },
  {
   "cell_type": "code",
   "execution_count": null,
   "metadata": {},
   "outputs": [],
   "source": []
  },
  {
   "cell_type": "code",
   "execution_count": 76,
   "metadata": {},
   "outputs": [
    {
     "name": "stdout",
     "output_type": "stream",
     "text": [
      "313/313 [==============================] - 2s 8ms/step\n",
      "Матрица ошибок:\n",
      "[[ 974    0    1    0    2    0    1    1    0    1]\n",
      " [   0 1134    0    0    0    0    1    0    0    0]\n",
      " [   0    0 1028    1    0    0    0    2    1    0]\n",
      " [   1    0    2 1001    0    5    0    0    1    0]\n",
      " [   0    0    0    0  974    0    1    0    0    7]\n",
      " [   0    0    0    7    0  882    1    1    0    1]\n",
      " [   2    3    0    0    1    1  951    0    0    0]\n",
      " [   0    6   11    0    0    0    0 1007    0    4]\n",
      " [   2    0    3    0    0    1    0    0  966    2]\n",
      " [   1    2    0    0    5    1    0    4    1  995]]\n"
     ]
    }
   ],
   "source": [
    "# Предсказания модели на тестовых данных\n",
    "predictions = model.predict(test_X)\n",
    "\n",
    "# Преобразование предсказаний в метки классов\n",
    "predicted_labels = np.argmax(predictions, axis=1)\n",
    "true_labels = np.argmax(test_Y, axis=1)\n",
    "\n",
    "# Рассчет матрицы ошибок\n",
    "confus = confusion_matrix(true_labels, predicted_labels)\n",
    "print(\"Матрица ошибок:\")\n",
    "print(confus)"
   ]
  },
  {
   "cell_type": "code",
   "execution_count": null,
   "metadata": {},
   "outputs": [],
   "source": []
  },
  {
   "cell_type": "code",
   "execution_count": 77,
   "metadata": {},
   "outputs": [],
   "source": [
    "from PIL import Image"
   ]
  },
  {
   "cell_type": "code",
   "execution_count": 78,
   "metadata": {},
   "outputs": [],
   "source": [
    "# Загрузка изображения\n",
    "img = Image.open(\"C:/Users/user/Downloads/IMG_20230915_172143.jpg\")"
   ]
  },
  {
   "cell_type": "code",
   "execution_count": 16,
   "metadata": {},
   "outputs": [],
   "source": [
    "#img.show()"
   ]
  },
  {
   "cell_type": "code",
   "execution_count": 17,
   "metadata": {},
   "outputs": [],
   "source": [
    "# Преобразование изображения в черно-белый формат\n",
    "img = img.convert('L')\n",
    "#img.show()"
   ]
  },
  {
   "cell_type": "code",
   "execution_count": 18,
   "metadata": {},
   "outputs": [],
   "source": [
    "# Изменение размера изображения до 28x28\n",
    "img = img.resize((28, 28))"
   ]
  },
  {
   "cell_type": "code",
   "execution_count": 19,
   "metadata": {},
   "outputs": [],
   "source": [
    "# Преобразование изображения в массив numpy\n",
    "new_image = np.array(img)"
   ]
  },
  {
   "cell_type": "code",
   "execution_count": 20,
   "metadata": {},
   "outputs": [
    {
     "name": "stdout",
     "output_type": "stream",
     "text": [
      "1/1 [==============================] - 0s 109ms/step\n"
     ]
    }
   ],
   "source": [
    "# Пример распознавания цифры на новом изображении\n",
    "prediction = model.predict(new_image.reshape(1, 28, 28, 1))"
   ]
  },
  {
   "cell_type": "code",
   "execution_count": 21,
   "metadata": {},
   "outputs": [],
   "source": [
    "# Ищем индекс класса с наибольшей вероятностью\n",
    "predicted_class = np.argmax(prediction)"
   ]
  },
  {
   "cell_type": "code",
   "execution_count": 79,
   "metadata": {},
   "outputs": [
    {
     "name": "stdout",
     "output_type": "stream",
     "text": [
      "Цифра: 8\n"
     ]
    }
   ],
   "source": [
    "# Выводим предсказанный класс\n",
    "print(\"Цифра:\", predicted_class)"
   ]
  },
  {
   "cell_type": "code",
   "execution_count": null,
   "metadata": {},
   "outputs": [],
   "source": []
  },
  {
   "cell_type": "code",
   "execution_count": null,
   "metadata": {},
   "outputs": [],
   "source": []
  }
 ],
 "metadata": {
  "colab": {
   "provenance": []
  },
  "kernelspec": {
   "display_name": "Python 3 (ipykernel)",
   "language": "python",
   "name": "python3"
  },
  "language_info": {
   "codemirror_mode": {
    "name": "ipython",
    "version": 3
   },
   "file_extension": ".py",
   "mimetype": "text/x-python",
   "name": "python",
   "nbconvert_exporter": "python",
   "pygments_lexer": "ipython3",
   "version": "3.11.4"
  }
 },
 "nbformat": 4,
 "nbformat_minor": 1
}
